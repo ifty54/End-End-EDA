{
  "nbformat": 4,
  "nbformat_minor": 0,
  "metadata": {
    "colab": {
      "provenance": [],
      "authorship_tag": "ABX9TyPFZI/nWGmyOF0h2f/D5ler",
      "include_colab_link": true
    },
    "kernelspec": {
      "name": "python3",
      "display_name": "Python 3"
    },
    "language_info": {
      "name": "python"
    }
  },
  "cells": [
    {
      "cell_type": "markdown",
      "metadata": {
        "id": "view-in-github",
        "colab_type": "text"
      },
      "source": [
        "<a href=\"https://colab.research.google.com/github/ifty54/End-End-EDA/blob/main/Exploratory_Data_Analysis.ipynb\" target=\"_parent\"><img src=\"https://colab.research.google.com/assets/colab-badge.svg\" alt=\"Open In Colab\"/></a>"
      ]
    },
    {
      "cell_type": "markdown",
      "source": [
        "# **Objectives**"
      ],
      "metadata": {
        "id": "nR_mwguilKxY"
      }
    },
    {
      "cell_type": "markdown",
      "source": [
        "*   Data Wrangling\n",
        "*   Data Filtering\n"
      ],
      "metadata": {
        "id": "64nWkDlPlO4K"
      }
    },
    {
      "cell_type": "markdown",
      "source": [
        "**Required Libraries**"
      ],
      "metadata": {
        "id": "RTbh0kRhmC03"
      }
    },
    {
      "cell_type": "code",
      "execution_count": 13,
      "metadata": {
        "id": "bmv72NS6lD_S"
      },
      "outputs": [],
      "source": [
        "import pandas as pd\n",
        "import plotly.express as px\n",
        "import datetime\n",
        "import requests\n",
        "import json"
      ]
    },
    {
      "cell_type": "markdown",
      "source": [
        "## **Reading Data**"
      ],
      "metadata": {
        "id": "l6L3psXvueqM"
      }
    },
    {
      "cell_type": "code",
      "source": [
        "gasoline = pd.read_csv(\"https://cf-courses-data.s3.us.cloud-object-storage.appdomain.cloud/IBM-ML0232EN-SkillsNetwork/asset/18100001.csv\")\n",
        "gasoline.head()"
      ],
      "metadata": {
        "colab": {
          "base_uri": "https://localhost:8080/",
          "height": 337
        },
        "id": "8GY7UdaMunh0",
        "outputId": "7bf970ee-b888-45c5-f224-f8c7a3446459"
      },
      "execution_count": 14,
      "outputs": [
        {
          "output_type": "execute_result",
          "data": {
            "text/plain": [
              "  REF_DATE                                                GEO         DGUID  \\\n",
              "0   Jan-79              St. John's, Newfoundland and Labrador  2011S0503001   \n",
              "1   Jan-79  Charlottetown and Summerside, Prince Edward Is...           NaN   \n",
              "2   Jan-79                               Halifax, Nova Scotia  2011S0503205   \n",
              "3   Jan-79                          Saint John, New Brunswick  2011S0503310   \n",
              "4   Jan-79                                     Québec, Quebec  2011S0503421   \n",
              "\n",
              "                                        Type of fuel              UOM  UOM_ID  \\\n",
              "0  Regular unleaded gasoline at full service fill...  Cents per litre      57   \n",
              "1  Regular unleaded gasoline at full service fill...  Cents per litre      57   \n",
              "2  Regular unleaded gasoline at full service fill...  Cents per litre      57   \n",
              "3  Regular unleaded gasoline at full service fill...  Cents per litre      57   \n",
              "4  Regular unleaded gasoline at full service fill...  Cents per litre      57   \n",
              "\n",
              "  SCALAR_FACTOR  SCALAR_ID   VECTOR  COORDINATE  VALUE  STATUS  SYMBOL  \\\n",
              "0        units           0  v735046         2.1   26.0     NaN     NaN   \n",
              "1        units           0  v735056         3.1   24.6     NaN     NaN   \n",
              "2        units           0  v735057         4.1   23.4     NaN     NaN   \n",
              "3        units           0  v735058         5.1   23.2     NaN     NaN   \n",
              "4        units           0  v735059         6.1   22.6     NaN     NaN   \n",
              "\n",
              "  TERMINATED  DECIMALS  \n",
              "0          t         1  \n",
              "1          t         1  \n",
              "2          t         1  \n",
              "3          t         1  \n",
              "4          t         1  "
            ],
            "text/html": [
              "\n",
              "  <div id=\"df-a6926ff8-19f7-47a5-8468-8ec79b577086\">\n",
              "    <div class=\"colab-df-container\">\n",
              "      <div>\n",
              "<style scoped>\n",
              "    .dataframe tbody tr th:only-of-type {\n",
              "        vertical-align: middle;\n",
              "    }\n",
              "\n",
              "    .dataframe tbody tr th {\n",
              "        vertical-align: top;\n",
              "    }\n",
              "\n",
              "    .dataframe thead th {\n",
              "        text-align: right;\n",
              "    }\n",
              "</style>\n",
              "<table border=\"1\" class=\"dataframe\">\n",
              "  <thead>\n",
              "    <tr style=\"text-align: right;\">\n",
              "      <th></th>\n",
              "      <th>REF_DATE</th>\n",
              "      <th>GEO</th>\n",
              "      <th>DGUID</th>\n",
              "      <th>Type of fuel</th>\n",
              "      <th>UOM</th>\n",
              "      <th>UOM_ID</th>\n",
              "      <th>SCALAR_FACTOR</th>\n",
              "      <th>SCALAR_ID</th>\n",
              "      <th>VECTOR</th>\n",
              "      <th>COORDINATE</th>\n",
              "      <th>VALUE</th>\n",
              "      <th>STATUS</th>\n",
              "      <th>SYMBOL</th>\n",
              "      <th>TERMINATED</th>\n",
              "      <th>DECIMALS</th>\n",
              "    </tr>\n",
              "  </thead>\n",
              "  <tbody>\n",
              "    <tr>\n",
              "      <th>0</th>\n",
              "      <td>Jan-79</td>\n",
              "      <td>St. John's, Newfoundland and Labrador</td>\n",
              "      <td>2011S0503001</td>\n",
              "      <td>Regular unleaded gasoline at full service fill...</td>\n",
              "      <td>Cents per litre</td>\n",
              "      <td>57</td>\n",
              "      <td>units</td>\n",
              "      <td>0</td>\n",
              "      <td>v735046</td>\n",
              "      <td>2.1</td>\n",
              "      <td>26.0</td>\n",
              "      <td>NaN</td>\n",
              "      <td>NaN</td>\n",
              "      <td>t</td>\n",
              "      <td>1</td>\n",
              "    </tr>\n",
              "    <tr>\n",
              "      <th>1</th>\n",
              "      <td>Jan-79</td>\n",
              "      <td>Charlottetown and Summerside, Prince Edward Is...</td>\n",
              "      <td>NaN</td>\n",
              "      <td>Regular unleaded gasoline at full service fill...</td>\n",
              "      <td>Cents per litre</td>\n",
              "      <td>57</td>\n",
              "      <td>units</td>\n",
              "      <td>0</td>\n",
              "      <td>v735056</td>\n",
              "      <td>3.1</td>\n",
              "      <td>24.6</td>\n",
              "      <td>NaN</td>\n",
              "      <td>NaN</td>\n",
              "      <td>t</td>\n",
              "      <td>1</td>\n",
              "    </tr>\n",
              "    <tr>\n",
              "      <th>2</th>\n",
              "      <td>Jan-79</td>\n",
              "      <td>Halifax, Nova Scotia</td>\n",
              "      <td>2011S0503205</td>\n",
              "      <td>Regular unleaded gasoline at full service fill...</td>\n",
              "      <td>Cents per litre</td>\n",
              "      <td>57</td>\n",
              "      <td>units</td>\n",
              "      <td>0</td>\n",
              "      <td>v735057</td>\n",
              "      <td>4.1</td>\n",
              "      <td>23.4</td>\n",
              "      <td>NaN</td>\n",
              "      <td>NaN</td>\n",
              "      <td>t</td>\n",
              "      <td>1</td>\n",
              "    </tr>\n",
              "    <tr>\n",
              "      <th>3</th>\n",
              "      <td>Jan-79</td>\n",
              "      <td>Saint John, New Brunswick</td>\n",
              "      <td>2011S0503310</td>\n",
              "      <td>Regular unleaded gasoline at full service fill...</td>\n",
              "      <td>Cents per litre</td>\n",
              "      <td>57</td>\n",
              "      <td>units</td>\n",
              "      <td>0</td>\n",
              "      <td>v735058</td>\n",
              "      <td>5.1</td>\n",
              "      <td>23.2</td>\n",
              "      <td>NaN</td>\n",
              "      <td>NaN</td>\n",
              "      <td>t</td>\n",
              "      <td>1</td>\n",
              "    </tr>\n",
              "    <tr>\n",
              "      <th>4</th>\n",
              "      <td>Jan-79</td>\n",
              "      <td>Québec, Quebec</td>\n",
              "      <td>2011S0503421</td>\n",
              "      <td>Regular unleaded gasoline at full service fill...</td>\n",
              "      <td>Cents per litre</td>\n",
              "      <td>57</td>\n",
              "      <td>units</td>\n",
              "      <td>0</td>\n",
              "      <td>v735059</td>\n",
              "      <td>6.1</td>\n",
              "      <td>22.6</td>\n",
              "      <td>NaN</td>\n",
              "      <td>NaN</td>\n",
              "      <td>t</td>\n",
              "      <td>1</td>\n",
              "    </tr>\n",
              "  </tbody>\n",
              "</table>\n",
              "</div>\n",
              "      <button class=\"colab-df-convert\" onclick=\"convertToInteractive('df-a6926ff8-19f7-47a5-8468-8ec79b577086')\"\n",
              "              title=\"Convert this dataframe to an interactive table.\"\n",
              "              style=\"display:none;\">\n",
              "        \n",
              "  <svg xmlns=\"http://www.w3.org/2000/svg\" height=\"24px\"viewBox=\"0 0 24 24\"\n",
              "       width=\"24px\">\n",
              "    <path d=\"M0 0h24v24H0V0z\" fill=\"none\"/>\n",
              "    <path d=\"M18.56 5.44l.94 2.06.94-2.06 2.06-.94-2.06-.94-.94-2.06-.94 2.06-2.06.94zm-11 1L8.5 8.5l.94-2.06 2.06-.94-2.06-.94L8.5 2.5l-.94 2.06-2.06.94zm10 10l.94 2.06.94-2.06 2.06-.94-2.06-.94-.94-2.06-.94 2.06-2.06.94z\"/><path d=\"M17.41 7.96l-1.37-1.37c-.4-.4-.92-.59-1.43-.59-.52 0-1.04.2-1.43.59L10.3 9.45l-7.72 7.72c-.78.78-.78 2.05 0 2.83L4 21.41c.39.39.9.59 1.41.59.51 0 1.02-.2 1.41-.59l7.78-7.78 2.81-2.81c.8-.78.8-2.07 0-2.86zM5.41 20L4 18.59l7.72-7.72 1.47 1.35L5.41 20z\"/>\n",
              "  </svg>\n",
              "      </button>\n",
              "      \n",
              "  <style>\n",
              "    .colab-df-container {\n",
              "      display:flex;\n",
              "      flex-wrap:wrap;\n",
              "      gap: 12px;\n",
              "    }\n",
              "\n",
              "    .colab-df-convert {\n",
              "      background-color: #E8F0FE;\n",
              "      border: none;\n",
              "      border-radius: 50%;\n",
              "      cursor: pointer;\n",
              "      display: none;\n",
              "      fill: #1967D2;\n",
              "      height: 32px;\n",
              "      padding: 0 0 0 0;\n",
              "      width: 32px;\n",
              "    }\n",
              "\n",
              "    .colab-df-convert:hover {\n",
              "      background-color: #E2EBFA;\n",
              "      box-shadow: 0px 1px 2px rgba(60, 64, 67, 0.3), 0px 1px 3px 1px rgba(60, 64, 67, 0.15);\n",
              "      fill: #174EA6;\n",
              "    }\n",
              "\n",
              "    [theme=dark] .colab-df-convert {\n",
              "      background-color: #3B4455;\n",
              "      fill: #D2E3FC;\n",
              "    }\n",
              "\n",
              "    [theme=dark] .colab-df-convert:hover {\n",
              "      background-color: #434B5C;\n",
              "      box-shadow: 0px 1px 3px 1px rgba(0, 0, 0, 0.15);\n",
              "      filter: drop-shadow(0px 1px 2px rgba(0, 0, 0, 0.3));\n",
              "      fill: #FFFFFF;\n",
              "    }\n",
              "  </style>\n",
              "\n",
              "      <script>\n",
              "        const buttonEl =\n",
              "          document.querySelector('#df-a6926ff8-19f7-47a5-8468-8ec79b577086 button.colab-df-convert');\n",
              "        buttonEl.style.display =\n",
              "          google.colab.kernel.accessAllowed ? 'block' : 'none';\n",
              "\n",
              "        async function convertToInteractive(key) {\n",
              "          const element = document.querySelector('#df-a6926ff8-19f7-47a5-8468-8ec79b577086');\n",
              "          const dataTable =\n",
              "            await google.colab.kernel.invokeFunction('convertToInteractive',\n",
              "                                                     [key], {});\n",
              "          if (!dataTable) return;\n",
              "\n",
              "          const docLinkHtml = 'Like what you see? Visit the ' +\n",
              "            '<a target=\"_blank\" href=https://colab.research.google.com/notebooks/data_table.ipynb>data table notebook</a>'\n",
              "            + ' to learn more about interactive tables.';\n",
              "          element.innerHTML = '';\n",
              "          dataTable['output_type'] = 'display_data';\n",
              "          await google.colab.output.renderOutput(dataTable, element);\n",
              "          const docLink = document.createElement('div');\n",
              "          docLink.innerHTML = docLinkHtml;\n",
              "          element.appendChild(docLink);\n",
              "        }\n",
              "      </script>\n",
              "    </div>\n",
              "  </div>\n",
              "  "
            ]
          },
          "metadata": {},
          "execution_count": 14
        }
      ]
    },
    {
      "cell_type": "code",
      "source": [
        "gasoline.shape"
      ],
      "metadata": {
        "colab": {
          "base_uri": "https://localhost:8080/"
        },
        "id": "jPPKea91B05u",
        "outputId": "1c312856-b3a4-4a32-f720-b4ab3a516a1b"
      },
      "execution_count": 15,
      "outputs": [
        {
          "output_type": "execute_result",
          "data": {
            "text/plain": [
              "(41942, 15)"
            ]
          },
          "metadata": {},
          "execution_count": 15
        }
      ]
    },
    {
      "cell_type": "code",
      "source": [
        "gasoline.info()"
      ],
      "metadata": {
        "colab": {
          "base_uri": "https://localhost:8080/"
        },
        "id": "zJGUwf9BB4WQ",
        "outputId": "d0f0d67c-8ae8-4ebb-8641-07b95307b507"
      },
      "execution_count": 16,
      "outputs": [
        {
          "output_type": "stream",
          "name": "stdout",
          "text": [
            "<class 'pandas.core.frame.DataFrame'>\n",
            "RangeIndex: 41942 entries, 0 to 41941\n",
            "Data columns (total 15 columns):\n",
            " #   Column         Non-Null Count  Dtype  \n",
            "---  ------         --------------  -----  \n",
            " 0   REF_DATE       41942 non-null  object \n",
            " 1   GEO            41942 non-null  object \n",
            " 2   DGUID          39451 non-null  object \n",
            " 3   Type of fuel   41942 non-null  object \n",
            " 4   UOM            41942 non-null  object \n",
            " 5   UOM_ID         41942 non-null  int64  \n",
            " 6   SCALAR_FACTOR  41942 non-null  object \n",
            " 7   SCALAR_ID      41942 non-null  int64  \n",
            " 8   VECTOR         41942 non-null  object \n",
            " 9   COORDINATE     41942 non-null  float64\n",
            " 10  VALUE          41942 non-null  float64\n",
            " 11  STATUS         0 non-null      float64\n",
            " 12  SYMBOL         0 non-null      float64\n",
            " 13  TERMINATED     16564 non-null  object \n",
            " 14  DECIMALS       41942 non-null  int64  \n",
            "dtypes: float64(4), int64(3), object(8)\n",
            "memory usage: 4.8+ MB\n"
          ]
        }
      ]
    },
    {
      "cell_type": "code",
      "source": [
        "gasoline.columns"
      ],
      "metadata": {
        "colab": {
          "base_uri": "https://localhost:8080/"
        },
        "id": "Gtv6YLiyB7NC",
        "outputId": "4bc78d31-a101-4e44-e5b7-a78428ca52b9"
      },
      "execution_count": 17,
      "outputs": [
        {
          "output_type": "execute_result",
          "data": {
            "text/plain": [
              "Index(['REF_DATE', 'GEO', 'DGUID', 'Type of fuel', 'UOM', 'UOM_ID',\n",
              "       'SCALAR_FACTOR', 'SCALAR_ID', 'VECTOR', 'COORDINATE', 'VALUE', 'STATUS',\n",
              "       'SYMBOL', 'TERMINATED', 'DECIMALS'],\n",
              "      dtype='object')"
            ]
          },
          "metadata": {},
          "execution_count": 17
        }
      ]
    },
    {
      "cell_type": "code",
      "source": [
        "gasoline.isnull().sum()"
      ],
      "metadata": {
        "colab": {
          "base_uri": "https://localhost:8080/"
        },
        "id": "4ccifc4BB-L3",
        "outputId": "2148f991-ccbf-461a-9999-4945f884b413"
      },
      "execution_count": 18,
      "outputs": [
        {
          "output_type": "execute_result",
          "data": {
            "text/plain": [
              "REF_DATE             0\n",
              "GEO                  0\n",
              "DGUID             2491\n",
              "Type of fuel         0\n",
              "UOM                  0\n",
              "UOM_ID               0\n",
              "SCALAR_FACTOR        0\n",
              "SCALAR_ID            0\n",
              "VECTOR               0\n",
              "COORDINATE           0\n",
              "VALUE                0\n",
              "STATUS           41942\n",
              "SYMBOL           41942\n",
              "TERMINATED       25378\n",
              "DECIMALS             0\n",
              "dtype: int64"
            ]
          },
          "metadata": {},
          "execution_count": 18
        }
      ]
    },
    {
      "cell_type": "markdown",
      "source": [
        "# **Data Wrangling**"
      ],
      "metadata": {
        "id": "qksSy4JzE4bK"
      }
    },
    {
      "cell_type": "code",
      "source": [
        "data = (gasoline[['REF_DATE','GEO','Type of fuel','VALUE']]).rename(columns={\"REF_DATE\" : \"DATE\", \"Type of fuel\" : \"TYPE\"})\n",
        "data.head()"
      ],
      "metadata": {
        "colab": {
          "base_uri": "https://localhost:8080/",
          "height": 206
        },
        "id": "8mRTULeCE3I8",
        "outputId": "56a17f5a-e2a7-4a34-dbad-4c51707085f9"
      },
      "execution_count": 19,
      "outputs": [
        {
          "output_type": "execute_result",
          "data": {
            "text/plain": [
              "     DATE                                                GEO  \\\n",
              "0  Jan-79              St. John's, Newfoundland and Labrador   \n",
              "1  Jan-79  Charlottetown and Summerside, Prince Edward Is...   \n",
              "2  Jan-79                               Halifax, Nova Scotia   \n",
              "3  Jan-79                          Saint John, New Brunswick   \n",
              "4  Jan-79                                     Québec, Quebec   \n",
              "\n",
              "                                                TYPE  VALUE  \n",
              "0  Regular unleaded gasoline at full service fill...   26.0  \n",
              "1  Regular unleaded gasoline at full service fill...   24.6  \n",
              "2  Regular unleaded gasoline at full service fill...   23.4  \n",
              "3  Regular unleaded gasoline at full service fill...   23.2  \n",
              "4  Regular unleaded gasoline at full service fill...   22.6  "
            ],
            "text/html": [
              "\n",
              "  <div id=\"df-3085a17f-2288-4554-882a-b1f357ba92c6\">\n",
              "    <div class=\"colab-df-container\">\n",
              "      <div>\n",
              "<style scoped>\n",
              "    .dataframe tbody tr th:only-of-type {\n",
              "        vertical-align: middle;\n",
              "    }\n",
              "\n",
              "    .dataframe tbody tr th {\n",
              "        vertical-align: top;\n",
              "    }\n",
              "\n",
              "    .dataframe thead th {\n",
              "        text-align: right;\n",
              "    }\n",
              "</style>\n",
              "<table border=\"1\" class=\"dataframe\">\n",
              "  <thead>\n",
              "    <tr style=\"text-align: right;\">\n",
              "      <th></th>\n",
              "      <th>DATE</th>\n",
              "      <th>GEO</th>\n",
              "      <th>TYPE</th>\n",
              "      <th>VALUE</th>\n",
              "    </tr>\n",
              "  </thead>\n",
              "  <tbody>\n",
              "    <tr>\n",
              "      <th>0</th>\n",
              "      <td>Jan-79</td>\n",
              "      <td>St. John's, Newfoundland and Labrador</td>\n",
              "      <td>Regular unleaded gasoline at full service fill...</td>\n",
              "      <td>26.0</td>\n",
              "    </tr>\n",
              "    <tr>\n",
              "      <th>1</th>\n",
              "      <td>Jan-79</td>\n",
              "      <td>Charlottetown and Summerside, Prince Edward Is...</td>\n",
              "      <td>Regular unleaded gasoline at full service fill...</td>\n",
              "      <td>24.6</td>\n",
              "    </tr>\n",
              "    <tr>\n",
              "      <th>2</th>\n",
              "      <td>Jan-79</td>\n",
              "      <td>Halifax, Nova Scotia</td>\n",
              "      <td>Regular unleaded gasoline at full service fill...</td>\n",
              "      <td>23.4</td>\n",
              "    </tr>\n",
              "    <tr>\n",
              "      <th>3</th>\n",
              "      <td>Jan-79</td>\n",
              "      <td>Saint John, New Brunswick</td>\n",
              "      <td>Regular unleaded gasoline at full service fill...</td>\n",
              "      <td>23.2</td>\n",
              "    </tr>\n",
              "    <tr>\n",
              "      <th>4</th>\n",
              "      <td>Jan-79</td>\n",
              "      <td>Québec, Quebec</td>\n",
              "      <td>Regular unleaded gasoline at full service fill...</td>\n",
              "      <td>22.6</td>\n",
              "    </tr>\n",
              "  </tbody>\n",
              "</table>\n",
              "</div>\n",
              "      <button class=\"colab-df-convert\" onclick=\"convertToInteractive('df-3085a17f-2288-4554-882a-b1f357ba92c6')\"\n",
              "              title=\"Convert this dataframe to an interactive table.\"\n",
              "              style=\"display:none;\">\n",
              "        \n",
              "  <svg xmlns=\"http://www.w3.org/2000/svg\" height=\"24px\"viewBox=\"0 0 24 24\"\n",
              "       width=\"24px\">\n",
              "    <path d=\"M0 0h24v24H0V0z\" fill=\"none\"/>\n",
              "    <path d=\"M18.56 5.44l.94 2.06.94-2.06 2.06-.94-2.06-.94-.94-2.06-.94 2.06-2.06.94zm-11 1L8.5 8.5l.94-2.06 2.06-.94-2.06-.94L8.5 2.5l-.94 2.06-2.06.94zm10 10l.94 2.06.94-2.06 2.06-.94-2.06-.94-.94-2.06-.94 2.06-2.06.94z\"/><path d=\"M17.41 7.96l-1.37-1.37c-.4-.4-.92-.59-1.43-.59-.52 0-1.04.2-1.43.59L10.3 9.45l-7.72 7.72c-.78.78-.78 2.05 0 2.83L4 21.41c.39.39.9.59 1.41.59.51 0 1.02-.2 1.41-.59l7.78-7.78 2.81-2.81c.8-.78.8-2.07 0-2.86zM5.41 20L4 18.59l7.72-7.72 1.47 1.35L5.41 20z\"/>\n",
              "  </svg>\n",
              "      </button>\n",
              "      \n",
              "  <style>\n",
              "    .colab-df-container {\n",
              "      display:flex;\n",
              "      flex-wrap:wrap;\n",
              "      gap: 12px;\n",
              "    }\n",
              "\n",
              "    .colab-df-convert {\n",
              "      background-color: #E8F0FE;\n",
              "      border: none;\n",
              "      border-radius: 50%;\n",
              "      cursor: pointer;\n",
              "      display: none;\n",
              "      fill: #1967D2;\n",
              "      height: 32px;\n",
              "      padding: 0 0 0 0;\n",
              "      width: 32px;\n",
              "    }\n",
              "\n",
              "    .colab-df-convert:hover {\n",
              "      background-color: #E2EBFA;\n",
              "      box-shadow: 0px 1px 2px rgba(60, 64, 67, 0.3), 0px 1px 3px 1px rgba(60, 64, 67, 0.15);\n",
              "      fill: #174EA6;\n",
              "    }\n",
              "\n",
              "    [theme=dark] .colab-df-convert {\n",
              "      background-color: #3B4455;\n",
              "      fill: #D2E3FC;\n",
              "    }\n",
              "\n",
              "    [theme=dark] .colab-df-convert:hover {\n",
              "      background-color: #434B5C;\n",
              "      box-shadow: 0px 1px 3px 1px rgba(0, 0, 0, 0.15);\n",
              "      filter: drop-shadow(0px 1px 2px rgba(0, 0, 0, 0.3));\n",
              "      fill: #FFFFFF;\n",
              "    }\n",
              "  </style>\n",
              "\n",
              "      <script>\n",
              "        const buttonEl =\n",
              "          document.querySelector('#df-3085a17f-2288-4554-882a-b1f357ba92c6 button.colab-df-convert');\n",
              "        buttonEl.style.display =\n",
              "          google.colab.kernel.accessAllowed ? 'block' : 'none';\n",
              "\n",
              "        async function convertToInteractive(key) {\n",
              "          const element = document.querySelector('#df-3085a17f-2288-4554-882a-b1f357ba92c6');\n",
              "          const dataTable =\n",
              "            await google.colab.kernel.invokeFunction('convertToInteractive',\n",
              "                                                     [key], {});\n",
              "          if (!dataTable) return;\n",
              "\n",
              "          const docLinkHtml = 'Like what you see? Visit the ' +\n",
              "            '<a target=\"_blank\" href=https://colab.research.google.com/notebooks/data_table.ipynb>data table notebook</a>'\n",
              "            + ' to learn more about interactive tables.';\n",
              "          element.innerHTML = '';\n",
              "          dataTable['output_type'] = 'display_data';\n",
              "          await google.colab.output.renderOutput(dataTable, element);\n",
              "          const docLink = document.createElement('div');\n",
              "          docLink.innerHTML = docLinkHtml;\n",
              "          element.appendChild(docLink);\n",
              "        }\n",
              "      </script>\n",
              "    </div>\n",
              "  </div>\n",
              "  "
            ]
          },
          "metadata": {},
          "execution_count": 19
        }
      ]
    },
    {
      "cell_type": "markdown",
      "source": [
        "***Splitting Columns***"
      ],
      "metadata": {
        "id": "d7RPbpmoGlvd"
      }
    },
    {
      "cell_type": "code",
      "source": [
        "data[['City', 'Province']] = data['GEO'].str.split(',', n=1, expand=True)\n"
      ],
      "metadata": {
        "id": "Br1UkeNZGjmn"
      },
      "execution_count": 20,
      "outputs": []
    },
    {
      "cell_type": "code",
      "source": [
        "data.head()"
      ],
      "metadata": {
        "colab": {
          "base_uri": "https://localhost:8080/",
          "height": 206
        },
        "id": "68Ae64cgHv8I",
        "outputId": "6f79193b-d549-4c37-fc21-5cdaa545f66f"
      },
      "execution_count": 21,
      "outputs": [
        {
          "output_type": "execute_result",
          "data": {
            "text/plain": [
              "     DATE                                                GEO  \\\n",
              "0  Jan-79              St. John's, Newfoundland and Labrador   \n",
              "1  Jan-79  Charlottetown and Summerside, Prince Edward Is...   \n",
              "2  Jan-79                               Halifax, Nova Scotia   \n",
              "3  Jan-79                          Saint John, New Brunswick   \n",
              "4  Jan-79                                     Québec, Quebec   \n",
              "\n",
              "                                                TYPE  VALUE  \\\n",
              "0  Regular unleaded gasoline at full service fill...   26.0   \n",
              "1  Regular unleaded gasoline at full service fill...   24.6   \n",
              "2  Regular unleaded gasoline at full service fill...   23.4   \n",
              "3  Regular unleaded gasoline at full service fill...   23.2   \n",
              "4  Regular unleaded gasoline at full service fill...   22.6   \n",
              "\n",
              "                           City                    Province  \n",
              "0                    St. John's   Newfoundland and Labrador  \n",
              "1  Charlottetown and Summerside        Prince Edward Island  \n",
              "2                       Halifax                 Nova Scotia  \n",
              "3                    Saint John               New Brunswick  \n",
              "4                        Québec                      Quebec  "
            ],
            "text/html": [
              "\n",
              "  <div id=\"df-a8dad7da-6d57-4fa1-952c-f8b680f9a0e2\">\n",
              "    <div class=\"colab-df-container\">\n",
              "      <div>\n",
              "<style scoped>\n",
              "    .dataframe tbody tr th:only-of-type {\n",
              "        vertical-align: middle;\n",
              "    }\n",
              "\n",
              "    .dataframe tbody tr th {\n",
              "        vertical-align: top;\n",
              "    }\n",
              "\n",
              "    .dataframe thead th {\n",
              "        text-align: right;\n",
              "    }\n",
              "</style>\n",
              "<table border=\"1\" class=\"dataframe\">\n",
              "  <thead>\n",
              "    <tr style=\"text-align: right;\">\n",
              "      <th></th>\n",
              "      <th>DATE</th>\n",
              "      <th>GEO</th>\n",
              "      <th>TYPE</th>\n",
              "      <th>VALUE</th>\n",
              "      <th>City</th>\n",
              "      <th>Province</th>\n",
              "    </tr>\n",
              "  </thead>\n",
              "  <tbody>\n",
              "    <tr>\n",
              "      <th>0</th>\n",
              "      <td>Jan-79</td>\n",
              "      <td>St. John's, Newfoundland and Labrador</td>\n",
              "      <td>Regular unleaded gasoline at full service fill...</td>\n",
              "      <td>26.0</td>\n",
              "      <td>St. John's</td>\n",
              "      <td>Newfoundland and Labrador</td>\n",
              "    </tr>\n",
              "    <tr>\n",
              "      <th>1</th>\n",
              "      <td>Jan-79</td>\n",
              "      <td>Charlottetown and Summerside, Prince Edward Is...</td>\n",
              "      <td>Regular unleaded gasoline at full service fill...</td>\n",
              "      <td>24.6</td>\n",
              "      <td>Charlottetown and Summerside</td>\n",
              "      <td>Prince Edward Island</td>\n",
              "    </tr>\n",
              "    <tr>\n",
              "      <th>2</th>\n",
              "      <td>Jan-79</td>\n",
              "      <td>Halifax, Nova Scotia</td>\n",
              "      <td>Regular unleaded gasoline at full service fill...</td>\n",
              "      <td>23.4</td>\n",
              "      <td>Halifax</td>\n",
              "      <td>Nova Scotia</td>\n",
              "    </tr>\n",
              "    <tr>\n",
              "      <th>3</th>\n",
              "      <td>Jan-79</td>\n",
              "      <td>Saint John, New Brunswick</td>\n",
              "      <td>Regular unleaded gasoline at full service fill...</td>\n",
              "      <td>23.2</td>\n",
              "      <td>Saint John</td>\n",
              "      <td>New Brunswick</td>\n",
              "    </tr>\n",
              "    <tr>\n",
              "      <th>4</th>\n",
              "      <td>Jan-79</td>\n",
              "      <td>Québec, Quebec</td>\n",
              "      <td>Regular unleaded gasoline at full service fill...</td>\n",
              "      <td>22.6</td>\n",
              "      <td>Québec</td>\n",
              "      <td>Quebec</td>\n",
              "    </tr>\n",
              "  </tbody>\n",
              "</table>\n",
              "</div>\n",
              "      <button class=\"colab-df-convert\" onclick=\"convertToInteractive('df-a8dad7da-6d57-4fa1-952c-f8b680f9a0e2')\"\n",
              "              title=\"Convert this dataframe to an interactive table.\"\n",
              "              style=\"display:none;\">\n",
              "        \n",
              "  <svg xmlns=\"http://www.w3.org/2000/svg\" height=\"24px\"viewBox=\"0 0 24 24\"\n",
              "       width=\"24px\">\n",
              "    <path d=\"M0 0h24v24H0V0z\" fill=\"none\"/>\n",
              "    <path d=\"M18.56 5.44l.94 2.06.94-2.06 2.06-.94-2.06-.94-.94-2.06-.94 2.06-2.06.94zm-11 1L8.5 8.5l.94-2.06 2.06-.94-2.06-.94L8.5 2.5l-.94 2.06-2.06.94zm10 10l.94 2.06.94-2.06 2.06-.94-2.06-.94-.94-2.06-.94 2.06-2.06.94z\"/><path d=\"M17.41 7.96l-1.37-1.37c-.4-.4-.92-.59-1.43-.59-.52 0-1.04.2-1.43.59L10.3 9.45l-7.72 7.72c-.78.78-.78 2.05 0 2.83L4 21.41c.39.39.9.59 1.41.59.51 0 1.02-.2 1.41-.59l7.78-7.78 2.81-2.81c.8-.78.8-2.07 0-2.86zM5.41 20L4 18.59l7.72-7.72 1.47 1.35L5.41 20z\"/>\n",
              "  </svg>\n",
              "      </button>\n",
              "      \n",
              "  <style>\n",
              "    .colab-df-container {\n",
              "      display:flex;\n",
              "      flex-wrap:wrap;\n",
              "      gap: 12px;\n",
              "    }\n",
              "\n",
              "    .colab-df-convert {\n",
              "      background-color: #E8F0FE;\n",
              "      border: none;\n",
              "      border-radius: 50%;\n",
              "      cursor: pointer;\n",
              "      display: none;\n",
              "      fill: #1967D2;\n",
              "      height: 32px;\n",
              "      padding: 0 0 0 0;\n",
              "      width: 32px;\n",
              "    }\n",
              "\n",
              "    .colab-df-convert:hover {\n",
              "      background-color: #E2EBFA;\n",
              "      box-shadow: 0px 1px 2px rgba(60, 64, 67, 0.3), 0px 1px 3px 1px rgba(60, 64, 67, 0.15);\n",
              "      fill: #174EA6;\n",
              "    }\n",
              "\n",
              "    [theme=dark] .colab-df-convert {\n",
              "      background-color: #3B4455;\n",
              "      fill: #D2E3FC;\n",
              "    }\n",
              "\n",
              "    [theme=dark] .colab-df-convert:hover {\n",
              "      background-color: #434B5C;\n",
              "      box-shadow: 0px 1px 3px 1px rgba(0, 0, 0, 0.15);\n",
              "      filter: drop-shadow(0px 1px 2px rgba(0, 0, 0, 0.3));\n",
              "      fill: #FFFFFF;\n",
              "    }\n",
              "  </style>\n",
              "\n",
              "      <script>\n",
              "        const buttonEl =\n",
              "          document.querySelector('#df-a8dad7da-6d57-4fa1-952c-f8b680f9a0e2 button.colab-df-convert');\n",
              "        buttonEl.style.display =\n",
              "          google.colab.kernel.accessAllowed ? 'block' : 'none';\n",
              "\n",
              "        async function convertToInteractive(key) {\n",
              "          const element = document.querySelector('#df-a8dad7da-6d57-4fa1-952c-f8b680f9a0e2');\n",
              "          const dataTable =\n",
              "            await google.colab.kernel.invokeFunction('convertToInteractive',\n",
              "                                                     [key], {});\n",
              "          if (!dataTable) return;\n",
              "\n",
              "          const docLinkHtml = 'Like what you see? Visit the ' +\n",
              "            '<a target=\"_blank\" href=https://colab.research.google.com/notebooks/data_table.ipynb>data table notebook</a>'\n",
              "            + ' to learn more about interactive tables.';\n",
              "          element.innerHTML = '';\n",
              "          dataTable['output_type'] = 'display_data';\n",
              "          await google.colab.output.renderOutput(dataTable, element);\n",
              "          const docLink = document.createElement('div');\n",
              "          docLink.innerHTML = docLinkHtml;\n",
              "          element.appendChild(docLink);\n",
              "        }\n",
              "      </script>\n",
              "    </div>\n",
              "  </div>\n",
              "  "
            ]
          },
          "metadata": {},
          "execution_count": 21
        }
      ]
    },
    {
      "cell_type": "markdown",
      "source": [
        "***Transforming to datetime format***"
      ],
      "metadata": {
        "id": "HCRIe0B9H4V7"
      }
    },
    {
      "cell_type": "code",
      "source": [
        "data['DATE'] = pd.to_datetime(data['DATE'], format='%b-%y')\n",
        "data['Month'] = data['DATE'].dt.month_name().str.slice(stop=3)\n",
        "data['Year'] = data['DATE'].dt.year"
      ],
      "metadata": {
        "id": "y7W_vXycH0mO"
      },
      "execution_count": 22,
      "outputs": []
    },
    {
      "cell_type": "code",
      "source": [
        "data.head()"
      ],
      "metadata": {
        "colab": {
          "base_uri": "https://localhost:8080/",
          "height": 206
        },
        "id": "4sb8gv6kIbN_",
        "outputId": "2ca26e83-0409-4e19-8e31-077af51e0129"
      },
      "execution_count": 23,
      "outputs": [
        {
          "output_type": "execute_result",
          "data": {
            "text/plain": [
              "        DATE                                                GEO  \\\n",
              "0 1979-01-01              St. John's, Newfoundland and Labrador   \n",
              "1 1979-01-01  Charlottetown and Summerside, Prince Edward Is...   \n",
              "2 1979-01-01                               Halifax, Nova Scotia   \n",
              "3 1979-01-01                          Saint John, New Brunswick   \n",
              "4 1979-01-01                                     Québec, Quebec   \n",
              "\n",
              "                                                TYPE  VALUE  \\\n",
              "0  Regular unleaded gasoline at full service fill...   26.0   \n",
              "1  Regular unleaded gasoline at full service fill...   24.6   \n",
              "2  Regular unleaded gasoline at full service fill...   23.4   \n",
              "3  Regular unleaded gasoline at full service fill...   23.2   \n",
              "4  Regular unleaded gasoline at full service fill...   22.6   \n",
              "\n",
              "                           City                    Province Month  Year  \n",
              "0                    St. John's   Newfoundland and Labrador   Jan  1979  \n",
              "1  Charlottetown and Summerside        Prince Edward Island   Jan  1979  \n",
              "2                       Halifax                 Nova Scotia   Jan  1979  \n",
              "3                    Saint John               New Brunswick   Jan  1979  \n",
              "4                        Québec                      Quebec   Jan  1979  "
            ],
            "text/html": [
              "\n",
              "  <div id=\"df-e324b12e-1c48-4a1d-ae21-711a286d9370\">\n",
              "    <div class=\"colab-df-container\">\n",
              "      <div>\n",
              "<style scoped>\n",
              "    .dataframe tbody tr th:only-of-type {\n",
              "        vertical-align: middle;\n",
              "    }\n",
              "\n",
              "    .dataframe tbody tr th {\n",
              "        vertical-align: top;\n",
              "    }\n",
              "\n",
              "    .dataframe thead th {\n",
              "        text-align: right;\n",
              "    }\n",
              "</style>\n",
              "<table border=\"1\" class=\"dataframe\">\n",
              "  <thead>\n",
              "    <tr style=\"text-align: right;\">\n",
              "      <th></th>\n",
              "      <th>DATE</th>\n",
              "      <th>GEO</th>\n",
              "      <th>TYPE</th>\n",
              "      <th>VALUE</th>\n",
              "      <th>City</th>\n",
              "      <th>Province</th>\n",
              "      <th>Month</th>\n",
              "      <th>Year</th>\n",
              "    </tr>\n",
              "  </thead>\n",
              "  <tbody>\n",
              "    <tr>\n",
              "      <th>0</th>\n",
              "      <td>1979-01-01</td>\n",
              "      <td>St. John's, Newfoundland and Labrador</td>\n",
              "      <td>Regular unleaded gasoline at full service fill...</td>\n",
              "      <td>26.0</td>\n",
              "      <td>St. John's</td>\n",
              "      <td>Newfoundland and Labrador</td>\n",
              "      <td>Jan</td>\n",
              "      <td>1979</td>\n",
              "    </tr>\n",
              "    <tr>\n",
              "      <th>1</th>\n",
              "      <td>1979-01-01</td>\n",
              "      <td>Charlottetown and Summerside, Prince Edward Is...</td>\n",
              "      <td>Regular unleaded gasoline at full service fill...</td>\n",
              "      <td>24.6</td>\n",
              "      <td>Charlottetown and Summerside</td>\n",
              "      <td>Prince Edward Island</td>\n",
              "      <td>Jan</td>\n",
              "      <td>1979</td>\n",
              "    </tr>\n",
              "    <tr>\n",
              "      <th>2</th>\n",
              "      <td>1979-01-01</td>\n",
              "      <td>Halifax, Nova Scotia</td>\n",
              "      <td>Regular unleaded gasoline at full service fill...</td>\n",
              "      <td>23.4</td>\n",
              "      <td>Halifax</td>\n",
              "      <td>Nova Scotia</td>\n",
              "      <td>Jan</td>\n",
              "      <td>1979</td>\n",
              "    </tr>\n",
              "    <tr>\n",
              "      <th>3</th>\n",
              "      <td>1979-01-01</td>\n",
              "      <td>Saint John, New Brunswick</td>\n",
              "      <td>Regular unleaded gasoline at full service fill...</td>\n",
              "      <td>23.2</td>\n",
              "      <td>Saint John</td>\n",
              "      <td>New Brunswick</td>\n",
              "      <td>Jan</td>\n",
              "      <td>1979</td>\n",
              "    </tr>\n",
              "    <tr>\n",
              "      <th>4</th>\n",
              "      <td>1979-01-01</td>\n",
              "      <td>Québec, Quebec</td>\n",
              "      <td>Regular unleaded gasoline at full service fill...</td>\n",
              "      <td>22.6</td>\n",
              "      <td>Québec</td>\n",
              "      <td>Quebec</td>\n",
              "      <td>Jan</td>\n",
              "      <td>1979</td>\n",
              "    </tr>\n",
              "  </tbody>\n",
              "</table>\n",
              "</div>\n",
              "      <button class=\"colab-df-convert\" onclick=\"convertToInteractive('df-e324b12e-1c48-4a1d-ae21-711a286d9370')\"\n",
              "              title=\"Convert this dataframe to an interactive table.\"\n",
              "              style=\"display:none;\">\n",
              "        \n",
              "  <svg xmlns=\"http://www.w3.org/2000/svg\" height=\"24px\"viewBox=\"0 0 24 24\"\n",
              "       width=\"24px\">\n",
              "    <path d=\"M0 0h24v24H0V0z\" fill=\"none\"/>\n",
              "    <path d=\"M18.56 5.44l.94 2.06.94-2.06 2.06-.94-2.06-.94-.94-2.06-.94 2.06-2.06.94zm-11 1L8.5 8.5l.94-2.06 2.06-.94-2.06-.94L8.5 2.5l-.94 2.06-2.06.94zm10 10l.94 2.06.94-2.06 2.06-.94-2.06-.94-.94-2.06-.94 2.06-2.06.94z\"/><path d=\"M17.41 7.96l-1.37-1.37c-.4-.4-.92-.59-1.43-.59-.52 0-1.04.2-1.43.59L10.3 9.45l-7.72 7.72c-.78.78-.78 2.05 0 2.83L4 21.41c.39.39.9.59 1.41.59.51 0 1.02-.2 1.41-.59l7.78-7.78 2.81-2.81c.8-.78.8-2.07 0-2.86zM5.41 20L4 18.59l7.72-7.72 1.47 1.35L5.41 20z\"/>\n",
              "  </svg>\n",
              "      </button>\n",
              "      \n",
              "  <style>\n",
              "    .colab-df-container {\n",
              "      display:flex;\n",
              "      flex-wrap:wrap;\n",
              "      gap: 12px;\n",
              "    }\n",
              "\n",
              "    .colab-df-convert {\n",
              "      background-color: #E8F0FE;\n",
              "      border: none;\n",
              "      border-radius: 50%;\n",
              "      cursor: pointer;\n",
              "      display: none;\n",
              "      fill: #1967D2;\n",
              "      height: 32px;\n",
              "      padding: 0 0 0 0;\n",
              "      width: 32px;\n",
              "    }\n",
              "\n",
              "    .colab-df-convert:hover {\n",
              "      background-color: #E2EBFA;\n",
              "      box-shadow: 0px 1px 2px rgba(60, 64, 67, 0.3), 0px 1px 3px 1px rgba(60, 64, 67, 0.15);\n",
              "      fill: #174EA6;\n",
              "    }\n",
              "\n",
              "    [theme=dark] .colab-df-convert {\n",
              "      background-color: #3B4455;\n",
              "      fill: #D2E3FC;\n",
              "    }\n",
              "\n",
              "    [theme=dark] .colab-df-convert:hover {\n",
              "      background-color: #434B5C;\n",
              "      box-shadow: 0px 1px 3px 1px rgba(0, 0, 0, 0.15);\n",
              "      filter: drop-shadow(0px 1px 2px rgba(0, 0, 0, 0.3));\n",
              "      fill: #FFFFFF;\n",
              "    }\n",
              "  </style>\n",
              "\n",
              "      <script>\n",
              "        const buttonEl =\n",
              "          document.querySelector('#df-e324b12e-1c48-4a1d-ae21-711a286d9370 button.colab-df-convert');\n",
              "        buttonEl.style.display =\n",
              "          google.colab.kernel.accessAllowed ? 'block' : 'none';\n",
              "\n",
              "        async function convertToInteractive(key) {\n",
              "          const element = document.querySelector('#df-e324b12e-1c48-4a1d-ae21-711a286d9370');\n",
              "          const dataTable =\n",
              "            await google.colab.kernel.invokeFunction('convertToInteractive',\n",
              "                                                     [key], {});\n",
              "          if (!dataTable) return;\n",
              "\n",
              "          const docLinkHtml = 'Like what you see? Visit the ' +\n",
              "            '<a target=\"_blank\" href=https://colab.research.google.com/notebooks/data_table.ipynb>data table notebook</a>'\n",
              "            + ' to learn more about interactive tables.';\n",
              "          element.innerHTML = '';\n",
              "          dataTable['output_type'] = 'display_data';\n",
              "          await google.colab.output.renderOutput(dataTable, element);\n",
              "          const docLink = document.createElement('div');\n",
              "          docLink.innerHTML = docLinkHtml;\n",
              "          element.appendChild(docLink);\n",
              "        }\n",
              "      </script>\n",
              "    </div>\n",
              "  </div>\n",
              "  "
            ]
          },
          "metadata": {},
          "execution_count": 23
        }
      ]
    },
    {
      "cell_type": "code",
      "source": [
        "data.VALUE.describe()"
      ],
      "metadata": {
        "colab": {
          "base_uri": "https://localhost:8080/"
        },
        "id": "niVM2r6iIlto",
        "outputId": "01765d2f-6f96-476c-e53a-567cb0bcb181"
      },
      "execution_count": 24,
      "outputs": [
        {
          "output_type": "execute_result",
          "data": {
            "text/plain": [
              "count    41942.000000\n",
              "mean        84.784858\n",
              "std         31.492697\n",
              "min         18.300000\n",
              "25%         58.200000\n",
              "50%         79.200000\n",
              "75%        110.900000\n",
              "max        191.600000\n",
              "Name: VALUE, dtype: float64"
            ]
          },
          "metadata": {},
          "execution_count": 24
        }
      ]
    },
    {
      "cell_type": "code",
      "source": [
        "data.GEO.unique().tolist()"
      ],
      "metadata": {
        "colab": {
          "base_uri": "https://localhost:8080/"
        },
        "id": "uRzJxqAFItFl",
        "outputId": "2e3f7e3c-9177-4455-b0b2-54d252854bbf"
      },
      "execution_count": 26,
      "outputs": [
        {
          "output_type": "execute_result",
          "data": {
            "text/plain": [
              "[\"St. John's, Newfoundland and Labrador\",\n",
              " 'Charlottetown and Summerside, Prince Edward Island',\n",
              " 'Halifax, Nova Scotia',\n",
              " 'Saint John, New Brunswick',\n",
              " 'Québec, Quebec',\n",
              " 'Montréal, Quebec',\n",
              " 'Ottawa-Gatineau, Ontario part, Ontario/Quebec',\n",
              " 'Toronto, Ontario',\n",
              " 'Thunder Bay, Ontario',\n",
              " 'Winnipeg, Manitoba',\n",
              " 'Regina, Saskatchewan',\n",
              " 'Saskatoon, Saskatchewan',\n",
              " 'Edmonton, Alberta',\n",
              " 'Calgary, Alberta',\n",
              " 'Vancouver, British Columbia',\n",
              " 'Victoria, British Columbia',\n",
              " 'Whitehorse, Yukon',\n",
              " 'Yellowknife, Northwest Territories']"
            ]
          },
          "metadata": {},
          "execution_count": 26
        }
      ]
    }
  ]
}